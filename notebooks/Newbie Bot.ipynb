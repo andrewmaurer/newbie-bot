{
 "cells": [
  {
   "cell_type": "markdown",
   "metadata": {},
   "source": [
    "# Newbie Bot\n",
    "\n",
    "Scrape subreddits and use NLP to answer frequently asked questions."
   ]
  },
  {
   "cell_type": "code",
   "execution_count": 1,
   "metadata": {},
   "outputs": [
    {
     "name": "stdout",
     "output_type": "stream",
     "text": [
      "python: 3.7.3\n",
      "joblib: 0.13.2\n",
      "numpy: 1.16.2\n",
      "pandas: 0.24.2\n",
      "praw: 6.3.1\n"
     ]
    }
   ],
   "source": [
    "import sys\n",
    "import os\n",
    "\n",
    "import numpy as np\n",
    "import pandas as pd\n",
    "\n",
    "import joblib\n",
    "from joblib import dump, load\n",
    "\n",
    "import praw\n",
    "\n",
    "packages = [joblib, np, pd, praw]\n",
    "\n",
    "print(f'python: {sys.version.split()[0]}')\n",
    "for package in packages:\n",
    "    print(f'{package.__name__}: {package.__version__}')"
   ]
  },
  {
   "cell_type": "markdown",
   "metadata": {},
   "source": [
    "# Scrape Reddit Data"
   ]
  },
  {
   "cell_type": "code",
   "execution_count": 2,
   "metadata": {},
   "outputs": [],
   "source": [
    "from reddit_credentials import name, secret, agent\n",
    "\n",
    "reddit = praw.Reddit(client_id=name,\n",
    "                     client_secret=secret,\n",
    "                     user_agent=agent)"
   ]
  },
  {
   "cell_type": "code",
   "execution_count": 13,
   "metadata": {},
   "outputs": [
    {
     "name": "stdout",
     "output_type": "stream",
     "text": [
      "Community Campfire: Tracking Your Progress\n",
      "Moronic Monday - Your weekly stupid questions thread\n",
      "How bad is it to raise reps/lower weight during a cut?\n",
      "Suddenly struggling 3.5 months into cut\n",
      "Started doing Farmer's Walks and have a question about weight\n",
      "Feeling overly full/fat while attempting a bulk.\n",
      "4 days rest?\n",
      "Breathing pause squats.. worth it?\n",
      "Long term cutting routine\n",
      "Female waiting to build upper-body strength to support aerial acrobatics\n"
     ]
    }
   ],
   "source": [
    "for submission in reddit.subreddit('fitness').hot(limit=10):\n",
    "    print(submission.title)"
   ]
  },
  {
   "cell_type": "code",
   "execution_count": 14,
   "metadata": {},
   "outputs": [],
   "source": [
    "def recurring(post_title):\n",
    "    if 'daily' in post_title.lower():\n",
    "        return True\n",
    "    if 'weekly' in post_title.lower():\n",
    "        return True"
   ]
  },
  {
   "cell_type": "code",
   "execution_count": 15,
   "metadata": {},
   "outputs": [
    {
     "name": "stdout",
     "output_type": "stream",
     "text": [
      "Ask Anything Monday - Weekly Thread\n"
     ]
    }
   ],
   "source": [
    "relevant_posts = []\n",
    "\n",
    "for submission in reddit.subreddit('learnpython').hot(limit=100):\n",
    "    if recurring(submission.title):\n",
    "        relevant_posts.append(submission)\n",
    "        \n",
    "for post in relevant_posts:\n",
    "    print(post.title)"
   ]
  },
  {
   "cell_type": "code",
   "execution_count": 21,
   "metadata": {},
   "outputs": [
    {
     "name": "stdout",
     "output_type": "stream",
     "text": [
      "cs9ens\n"
     ]
    }
   ],
   "source": [
    "monday = relevant_posts[0]\n",
    "print(monday)"
   ]
  },
  {
   "cell_type": "code",
   "execution_count": 22,
   "metadata": {},
   "outputs": [],
   "source": [
    "submission = reddit.submission(id='cs9ens')"
   ]
  },
  {
   "cell_type": "code",
   "execution_count": 23,
   "metadata": {},
   "outputs": [
    {
     "data": {
      "text/plain": [
       "Submission(id='cs9ens')"
      ]
     },
     "execution_count": 23,
     "metadata": {},
     "output_type": "execute_result"
    }
   ],
   "source": [
    "submission"
   ]
  },
  {
   "cell_type": "code",
   "execution_count": 28,
   "metadata": {},
   "outputs": [
    {
     "name": "stdout",
     "output_type": "stream",
     "text": [
      "Starting a Python online class tomorrow from my local community college and this is my first CS class. Dropped out of college 12 years ago, but been doing QA for a web browser for the last 5. Any tips or tricks? Anything you wish you knew. So far only thing I have been told is to use PyCharm. \n",
      "\n",
      "Mahalo\n"
     ]
    }
   ],
   "source": [
    "comment = submission.comments[0]\n",
    "print(comment.body)"
   ]
  },
  {
   "cell_type": "code",
   "execution_count": null,
   "metadata": {},
   "outputs": [],
   "source": []
  }
 ],
 "metadata": {
  "kernelspec": {
   "display_name": "Python [conda env:insight2]",
   "language": "python",
   "name": "conda-env-insight2-py"
  },
  "language_info": {
   "codemirror_mode": {
    "name": "ipython",
    "version": 3
   },
   "file_extension": ".py",
   "mimetype": "text/x-python",
   "name": "python",
   "nbconvert_exporter": "python",
   "pygments_lexer": "ipython3",
   "version": "3.7.3"
  }
 },
 "nbformat": 4,
 "nbformat_minor": 2
}
