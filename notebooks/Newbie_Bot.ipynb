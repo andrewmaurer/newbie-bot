{
  "nbformat": 4,
  "nbformat_minor": 0,
  "metadata": {
    "colab": {
      "name": "Newbie Bot",
      "version": "0.3.2",
      "provenance": [],
      "include_colab_link": true
    },
    "kernelspec": {
      "name": "python3",
      "display_name": "Python 3"
    }
  },
  "cells": [
    {
      "cell_type": "markdown",
      "metadata": {
        "id": "view-in-github",
        "colab_type": "text"
      },
      "source": [
        "<a href=\"https://colab.research.google.com/github/andrewmaurer/newbie-bot/blob/master/notebooks/Newbie_Bot.ipynb\" target=\"_parent\"><img src=\"https://colab.research.google.com/assets/colab-badge.svg\" alt=\"Open In Colab\"/></a>"
      ]
    },
    {
      "cell_type": "markdown",
      "metadata": {
        "id": "vNBTrgaJtxVO",
        "colab_type": "text"
      },
      "source": [
        "# Newbie Bot"
      ]
    },
    {
      "cell_type": "code",
      "metadata": {
        "id": "QaAubdmYtyGk",
        "colab_type": "code",
        "colab": {
          "base_uri": "https://localhost:8080/",
          "height": 121
        },
        "outputId": "0aeb1bb7-6c89-4800-e4f1-89704fca3fc0"
      },
      "source": [
        "import sys\n",
        "import os\n",
        "\n",
        "import numpy as np\n",
        "import pandas as pd\n",
        "\n",
        "import joblib\n",
        "from joblib import dump, load\n",
        "\n",
        "import torch\n",
        "\n",
        "import praw\n",
        "\n",
        "packages = [joblib, np, pd, praw, torch]\n",
        "\n",
        "print(f'python: {sys.version.split()[0]}')\n",
        "for package in packages:\n",
        "    print(f'{package.__name__}: {package.__version__}')"
      ],
      "execution_count": 9,
      "outputs": [
        {
          "output_type": "stream",
          "text": [
            "python: 3.6.8\n",
            "joblib: 0.13.2\n",
            "numpy: 1.16.4\n",
            "pandas: 0.24.2\n",
            "praw: 6.3.1\n",
            "torch: 1.1.0\n"
          ],
          "name": "stdout"
        }
      ]
    },
    {
      "cell_type": "markdown",
      "metadata": {
        "id": "3HiJcXb2u1Oh",
        "colab_type": "text"
      },
      "source": [
        "# Scrape Reddit"
      ]
    },
    {
      "cell_type": "code",
      "metadata": {
        "id": "DlX1Ltbwu3TV",
        "colab_type": "code",
        "colab": {}
      },
      "source": [
        ""
      ],
      "execution_count": 0,
      "outputs": []
    }
  ]
}